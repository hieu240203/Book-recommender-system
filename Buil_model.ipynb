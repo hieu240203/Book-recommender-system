{
 "cells": [
  {
   "cell_type": "code",
   "execution_count": 15,
   "metadata": {},
   "outputs": [],
   "source": [
    "import pandas as pd \n",
    "import numpy as np\n",
    "import string\n",
    "from model import recommend_products"
   ]
  },
  {
   "cell_type": "code",
   "execution_count": 16,
   "metadata": {},
   "outputs": [],
   "source": [
    "data = pd.read_csv(\"data\\data_clearn.csv\")"
   ]
  },
  {
   "cell_type": "code",
   "execution_count": 17,
   "metadata": {},
   "outputs": [
    {
     "data": {
      "text/html": [
       "<div>\n",
       "<style scoped>\n",
       "    .dataframe tbody tr th:only-of-type {\n",
       "        vertical-align: middle;\n",
       "    }\n",
       "\n",
       "    .dataframe tbody tr th {\n",
       "        vertical-align: top;\n",
       "    }\n",
       "\n",
       "    .dataframe thead th {\n",
       "        text-align: right;\n",
       "    }\n",
       "</style>\n",
       "<table border=\"1\" class=\"dataframe\">\n",
       "  <thead>\n",
       "    <tr style=\"text-align: right;\">\n",
       "      <th></th>\n",
       "      <th>product_id</th>\n",
       "      <th>title</th>\n",
       "      <th>current_price</th>\n",
       "      <th>category</th>\n",
       "      <th>n_review</th>\n",
       "      <th>avg_rating</th>\n",
       "      <th>pages</th>\n",
       "      <th>cover_link</th>\n",
       "    </tr>\n",
       "  </thead>\n",
       "  <tbody>\n",
       "    <tr>\n",
       "      <th>0</th>\n",
       "      <td>74021317</td>\n",
       "      <td>Cây Cam Ngọt Của Tôi</td>\n",
       "      <td>64800</td>\n",
       "      <td>Tiểu Thuyết</td>\n",
       "      <td>11481</td>\n",
       "      <td>5.0</td>\n",
       "      <td>244.0</td>\n",
       "      <td>https://salt.tikicdn.com/ts/product/5e/18/24/2...</td>\n",
       "    </tr>\n",
       "    <tr>\n",
       "      <th>1</th>\n",
       "      <td>184466860</td>\n",
       "      <td>Hành Tinh Của Một Kẻ Nghĩ Nhiều</td>\n",
       "      <td>59900</td>\n",
       "      <td>Sách tư duy - Kỹ năng sống</td>\n",
       "      <td>780</td>\n",
       "      <td>4.8</td>\n",
       "      <td>184.0</td>\n",
       "      <td>https://salt.tikicdn.com/ts/product/d7/99/24/1...</td>\n",
       "    </tr>\n",
       "    <tr>\n",
       "      <th>2</th>\n",
       "      <td>73787185</td>\n",
       "      <td>Những Tù Nhân Của Địa Lý</td>\n",
       "      <td>126000</td>\n",
       "      <td>Lĩnh vực khác</td>\n",
       "      <td>3623</td>\n",
       "      <td>4.8</td>\n",
       "      <td>430.0</td>\n",
       "      <td>https://salt.tikicdn.com/ts/product/8d/96/9e/c...</td>\n",
       "    </tr>\n",
       "    <tr>\n",
       "      <th>3</th>\n",
       "      <td>52789367</td>\n",
       "      <td>Nhà Giả Kim (Tái Bản 2020)</td>\n",
       "      <td>47400</td>\n",
       "      <td>Tác phẩm kinh điển</td>\n",
       "      <td>5131</td>\n",
       "      <td>5.0</td>\n",
       "      <td>228.0</td>\n",
       "      <td>https://salt.tikicdn.com/ts/product/45/3b/fc/a...</td>\n",
       "    </tr>\n",
       "    <tr>\n",
       "      <th>4</th>\n",
       "      <td>147920903</td>\n",
       "      <td>Một Thoáng Ta Rực Rỡ Ở Nhân Gian</td>\n",
       "      <td>81000</td>\n",
       "      <td>Tiểu Thuyết</td>\n",
       "      <td>1636</td>\n",
       "      <td>4.8</td>\n",
       "      <td>304.0</td>\n",
       "      <td>https://salt.tikicdn.com/ts/product/2f/b5/4e/a...</td>\n",
       "    </tr>\n",
       "  </tbody>\n",
       "</table>\n",
       "</div>"
      ],
      "text/plain": [
       "   product_id                             title  current_price  \\\n",
       "0    74021317              Cây Cam Ngọt Của Tôi          64800   \n",
       "1   184466860   Hành Tinh Của Một Kẻ Nghĩ Nhiều          59900   \n",
       "2    73787185          Những Tù Nhân Của Địa Lý         126000   \n",
       "3    52789367        Nhà Giả Kim (Tái Bản 2020)          47400   \n",
       "4   147920903  Một Thoáng Ta Rực Rỡ Ở Nhân Gian          81000   \n",
       "\n",
       "                     category  n_review  avg_rating  pages  \\\n",
       "0                 Tiểu Thuyết     11481         5.0  244.0   \n",
       "1  Sách tư duy - Kỹ năng sống       780         4.8  184.0   \n",
       "2               Lĩnh vực khác      3623         4.8  430.0   \n",
       "3          Tác phẩm kinh điển      5131         5.0  228.0   \n",
       "4                 Tiểu Thuyết      1636         4.8  304.0   \n",
       "\n",
       "                                          cover_link  \n",
       "0  https://salt.tikicdn.com/ts/product/5e/18/24/2...  \n",
       "1  https://salt.tikicdn.com/ts/product/d7/99/24/1...  \n",
       "2  https://salt.tikicdn.com/ts/product/8d/96/9e/c...  \n",
       "3  https://salt.tikicdn.com/ts/product/45/3b/fc/a...  \n",
       "4  https://salt.tikicdn.com/ts/product/2f/b5/4e/a...  "
      ]
     },
     "execution_count": 17,
     "metadata": {},
     "output_type": "execute_result"
    }
   ],
   "source": [
    "data.head()"
   ]
  },
  {
   "cell_type": "code",
   "execution_count": 18,
   "metadata": {},
   "outputs": [
    {
     "name": "stdout",
     "output_type": "stream",
     "text": [
      "Không tìm thấy cuốn sách phù hợp.\n"
     ]
    }
   ],
   "source": [
    "# Sử dụng hàm recommend_products để đề xuất các cuốn sách\n",
    "book_title = input(\"Nhập tên cuốn sách: \")\n",
    "recommended_books = recommend_products(book_title, data)\n",
    "if recommended_books:\n",
    "    print(\"Các cuốn sách được đề xuất:\")\n",
    "    for book in recommended_books:\n",
    "        print(f\"- {book['title']} - Thể loại: {book['category']} - Giá: {book['current_price']} - Số trang: {book['pages']} - Rating: {book['avg_rating']}\")"
   ]
  },
  {
   "cell_type": "code",
   "execution_count": null,
   "metadata": {},
   "outputs": [],
   "source": []
  }
 ],
 "metadata": {
  "kernelspec": {
   "display_name": "Python 3",
   "language": "python",
   "name": "python3"
  },
  "language_info": {
   "codemirror_mode": {
    "name": "ipython",
    "version": 3
   },
   "file_extension": ".py",
   "mimetype": "text/x-python",
   "name": "python",
   "nbconvert_exporter": "python",
   "pygments_lexer": "ipython3",
   "version": "3.10.5"
  }
 },
 "nbformat": 4,
 "nbformat_minor": 2
}
